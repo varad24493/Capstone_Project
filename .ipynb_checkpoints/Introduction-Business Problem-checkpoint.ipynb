{
 "cells": [
  {
   "cell_type": "markdown",
   "metadata": {},
   "source": [
    "# Defining the Business problem & background"
   ]
  },
  {
   "cell_type": "markdown",
   "metadata": {},
   "source": [
    "**Background :** In this project, we explore the cities of New York City & Toronto. Both these cities are major cities, with high population density. These are also Financial Capitals for respective countries. Here, more specifically we want to explore and compare the neighborhoods in these two cities. \n"
   ]
  },
  {
   "cell_type": "markdown",
   "metadata": {},
   "source": [
    "**Business Problem :** In this project, we compare the similarity between two cities and determine how both similar both cities are. In addition, we recommend the location for that would be best to open a restaurant and also for a contractor to open a office location.\n",
    "1. In case of restaurants we determine the right location based on the cluster of most trending places in the city\n",
    "2. In case of office locations, the location to based on the cluster of recommended venues in the city"
   ]
  },
  {
   "cell_type": "markdown",
   "metadata": {},
   "source": []
  },
  {
   "cell_type": "code",
   "execution_count": null,
   "metadata": {},
   "outputs": [],
   "source": []
  }
 ],
 "metadata": {
  "kernelspec": {
   "display_name": "Python 3",
   "language": "python",
   "name": "python3"
  },
  "language_info": {
   "codemirror_mode": {
    "name": "ipython",
    "version": 3
   },
   "file_extension": ".py",
   "mimetype": "text/x-python",
   "name": "python",
   "nbconvert_exporter": "python",
   "pygments_lexer": "ipython3",
   "version": "3.6.5"
  }
 },
 "nbformat": 4,
 "nbformat_minor": 2
}
