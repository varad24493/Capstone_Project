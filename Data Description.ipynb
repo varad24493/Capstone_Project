{
 "cells": [
  {
   "cell_type": "markdown",
   "metadata": {},
   "source": [
    "**Data Requirements :** For this project we would be using the city data for both New York City & Toronto, with geospatial data. In addition to the city data, we would be using the Four Sqaure API to pull the location information about both the cities. To get the right location for the restaurant we use the \"trending\" feature of the Four Square API; while for the office location recommendation we would use the \"explore\" option of the API to define the clusters.\n",
    "List of different data sources:\n",
    "1. New York City Data\n",
    "2. Toronto City Data\n",
    "3. Four Square API -location information\n",
    "\n",
    "In case of Four Square API, if the city we choose is New York City then-\n",
    "1. Restaurants: Here, we would be pulling the location informaiton for the most trending location in the city. As NYC is one of the highly dense cities in the world, hence per the trending cluster in this city we recommend the location to be near one of the trending locations. As having the restaurant in the most trending location, is the most ideal and best suited for opening a new high-end restaurant.\n",
    "2. Office Space: For the office space we would be accessing the location information of about top 100 venues near the NYC Midtown. We choose NYC midtown as the centroid for this search as Midtown is the prime location when it comes building space and headquarters of many companies. Having an office space near midtown would be ideally suited for a contractor."
   ]
  },
  {
   "cell_type": "code",
   "execution_count": null,
   "metadata": {},
   "outputs": [],
   "source": []
  }
 ],
 "metadata": {
  "kernelspec": {
   "display_name": "Python 3",
   "language": "python",
   "name": "python3"
  },
  "language_info": {
   "codemirror_mode": {
    "name": "ipython",
    "version": 3
   },
   "file_extension": ".py",
   "mimetype": "text/x-python",
   "name": "python",
   "nbconvert_exporter": "python",
   "pygments_lexer": "ipython3",
   "version": "3.6.5"
  }
 },
 "nbformat": 4,
 "nbformat_minor": 2
}
